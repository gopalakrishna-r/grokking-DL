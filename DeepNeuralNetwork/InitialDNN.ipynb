{
 "cells": [
  {
   "cell_type": "code",
   "execution_count": 2,
   "metadata": {
    "ExecuteTime": {
     "end_time": "2021-01-14T20:59:51.780383Z",
     "start_time": "2021-01-14T20:59:51.776394Z"
    }
   },
   "outputs": [],
   "source": [
    "import numpy as np"
   ]
  },
  {
   "cell_type": "code",
   "execution_count": 3,
   "metadata": {
    "ExecuteTime": {
     "end_time": "2021-01-14T20:59:51.801327Z",
     "start_time": "2021-01-14T20:59:51.781380Z"
    }
   },
   "outputs": [
    {
     "name": "stdout",
     "output_type": "stream",
     "text": [
      "Error: [2.65612311]\n",
      "Error: [0.96287018]\n",
      "Error: [0.55091659]\n",
      "Error: [0.36445837]\n",
      "Error: [0.25167687]\n",
      "Error: [0.17797575]\n",
      "Error: [0.12864461]\n",
      "Error: [0.09511037]\n",
      "Error: [0.07194564]\n",
      "Error: [0.05564915]\n",
      "Error: [0.04394764]\n",
      "Error: [0.03535797]\n",
      "Error: [0.028907]\n",
      "Error: [0.02395166]\n",
      "Error: [0.02006311]\n",
      "Error: [0.01695209]\n",
      "Error: [0.01442082]\n",
      "Error: [0.01233174]\n",
      "Error: [0.01058739]\n",
      "Error: [0.00911723]\n",
      "Error: [0.00786904]\n",
      "Error: [0.00680327]\n",
      "Error: [0.0058893]\n",
      "Error: [0.00510293]\n",
      "Error: [0.00442464]\n",
      "Error: [0.00383851]\n",
      "Error: [0.00333131]\n",
      "Error: [0.00289194]\n",
      "Error: [0.00251105]\n",
      "Error: [0.00218067]\n",
      "Error: [0.00189397]\n",
      "Error: [0.00164511]\n",
      "Error: [0.00142904]\n",
      "Error: [0.0012414]\n",
      "Error: [0.00107844]\n",
      "Error: [0.00093689]\n",
      "Error: [0.00081394]\n",
      "Error: [0.00070713]\n",
      "Error: [0.00061434]\n",
      "Error: [0.00053374]\n"
     ]
    }
   ],
   "source": [
    "streetlights = np.array([[ 1, 0, 1 ],\n",
    "                            [ 0, 1, 1 ],\n",
    "                            [ 0, 0, 1 ],\n",
    "                            [ 1, 1, 1 ],\n",
    "                            [ 0, 1, 1 ],\n",
    "                            [ 1, 0, 1 ]\n",
    "                         ])\n",
    "walk_vs_stop = np.array([[ 0 ],\n",
    "                        [ 1 ],\n",
    "                        [ 0 ],\n",
    "                        [ 1 ],\n",
    "                        [ 1 ],\n",
    "                        [ 0 ]])\n",
    "\n",
    "weights = np.array([0.5, 0.48, -0.7])\n",
    "alpha = 0.1\n",
    "\n",
    "\n",
    "for iteration in range(40):\n",
    "    error_for_all_weights = 0\n",
    "    for row_index in range(len(walk_vs_stop)):\n",
    "        input = streetlights[row_index]\n",
    "        goal_prediction = walk_vs_stop[row_index]\n",
    "        prediction = input.dot(weights)\n",
    "        error = (goal_prediction - prediction) ** 2\n",
    "        error_for_all_weights += error\n",
    "\n",
    "        delta = (prediction - goal_prediction)\n",
    "\n",
    "        weights = weights - (alpha * (input * delta))\n",
    "    print(f\"Error: {str(error_for_all_weights)}\")\n",
    "\n",
    "\n",
    "\n",
    "\n",
    "\n"
   ]
  }
 ],
 "metadata": {
  "kernelspec": {
   "display_name": "Python 3",
   "language": "python",
   "name": "python3"
  },
  "language_info": {
   "codemirror_mode": {
    "name": "ipython",
    "version": 3
   },
   "file_extension": ".py",
   "mimetype": "text/x-python",
   "name": "python",
   "nbconvert_exporter": "python",
   "pygments_lexer": "ipython3",
   "version": "3.7.9"
  },
  "toc": {
   "base_numbering": 1,
   "nav_menu": {},
   "number_sections": true,
   "sideBar": true,
   "skip_h1_title": false,
   "title_cell": "Table of Contents",
   "title_sidebar": "Contents",
   "toc_cell": false,
   "toc_position": {},
   "toc_section_display": true,
   "toc_window_display": false
  },
  "varInspector": {
   "cols": {
    "lenName": 16,
    "lenType": 16,
    "lenVar": 40
   },
   "kernels_config": {
    "python": {
     "delete_cmd_postfix": "",
     "delete_cmd_prefix": "del ",
     "library": "var_list.py",
     "varRefreshCmd": "print(var_dic_list())"
    },
    "r": {
     "delete_cmd_postfix": ") ",
     "delete_cmd_prefix": "rm(",
     "library": "var_list.r",
     "varRefreshCmd": "cat(var_dic_list()) "
    }
   },
   "types_to_exclude": [
    "module",
    "function",
    "builtin_function_or_method",
    "instance",
    "_Feature"
   ],
   "window_display": false
  }
 },
 "nbformat": 4,
 "nbformat_minor": 4
}
